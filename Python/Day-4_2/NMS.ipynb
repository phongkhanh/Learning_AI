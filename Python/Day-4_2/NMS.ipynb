{
 "cells": [
  {
   "cell_type": "code",
   "execution_count": null,
   "metadata": {},
   "outputs": [],
   "source": []
  },
  {
   "cell_type": "code",
   "execution_count": 3,
   "metadata": {},
   "outputs": [
    {
     "name": "stdout",
     "output_type": "stream",
     "text": [
      "[12. 24. 36. 12. 24. 24.]\n",
      "[ 84.  84.  84.  96.  96. 108.]\n",
      "[140. 152. 164. 140. 152. 152.]\n"
     ]
    },
    {
     "data": {
      "text/plain": [
       "True"
      ]
     },
     "execution_count": 3,
     "metadata": {},
     "output_type": "execute_result"
    }
   ],
   "source": [
    "# import the necessary packages\n",
    "import numpy as np\n",
    "import cv2\n",
    "\n",
    "boundingBoxes = np.array([\n",
    "\t(12, 84, 140, 212, 0.3),\n",
    "\t(24, 84, 152, 212, 0.4),\n",
    "\t(36, 84, 164, 212, 0.5),\n",
    "\t(12, 96, 140, 224, 0.6),\n",
    "\t(24, 96, 152, 224, 0.7),\n",
    "\t(24, 108, 152, 236, 0.8)])\n",
    "\n",
    "# load the image and clone it\n",
    "image = cv2.imread(\"cat_nms.png\")\n",
    "orig = image.copy()\n",
    "# loop over the bounding boxes for each image and draw them\n",
    "for (startX, startY, endX, endY, confidence) in boundingBoxes:\n",
    "\tcv2.rectangle(orig, (int(startX), int(startY)), (int(endX), int(endY)), (0, 0, 255), 2)\n",
    "# # perform non-maximum suppression on the bounding boxes\n",
    "pick = non_max_suppression(boundingBoxes, 0.3)\n",
    "# # loop over the picked bounding boxes and draw them\n",
    "# for (startX, startY, endX, endY, confidence) in pick:\n",
    "#    print(startX,startY,endX,endY)\n",
    "#    cv2.rectangle(image, (startX, startY), (endX, endY), (0, 255, 0), 2)\n",
    "# display the images\n",
    "# cv2.imshow('orig',orig)\n",
    "# cv2.imshow(image)\n",
    "# cv2.waitKey()\n",
    "cv2.imwrite('out.png',orig)\n"
   ]
  },
  {
   "cell_type": "code",
   "execution_count": 24,
   "metadata": {},
   "outputs": [
    {
     "data": {
      "text/plain": [
       "True"
      ]
     },
     "execution_count": 24,
     "metadata": {},
     "output_type": "execute_result"
    }
   ],
   "source": [
    "def non_max_suppression(boxes, overlapThresh):\n",
    "    # if there are no boxes, return an empty list\n",
    "    if len(boxes) == 0:\n",
    "        return []\n",
    "    # initialize the list of picked indexes\t\n",
    "    pick = []\n",
    "    x1 = boxes[:, 0]\n",
    "    y1 = boxes[:, 1]\n",
    "    x2 = boxes[:, 2]\n",
    "    y2 = boxes[:, 3]\n",
    "    c = boxes[:, 4]\n",
    "    # compute the area of intersection rectangle\n",
    "    area = (x2 - x1 + 1) * (y2 - y1 + 1)\n",
    "    idxs = np.argsort(c)\n",
    "    while len(idxs) > 0:\n",
    "        # grab the last index in the indexes list and add the\n",
    "        # index value to the list of picked indexes\n",
    "        last = len(idxs) - 1\n",
    "        i = idxs[last]\n",
    "        pick.append(i)\n",
    "        # find the largest (x, y) coordinates for the start of\n",
    "        # the bounding box and the smallest (x, y) coordinates\n",
    "        # for the end of the bounding box\n",
    "        xx1 = np.maximum(x1[i], x1[idxs[:last]])\n",
    "        yy1 = np.maximum(y1[i], y1[idxs[:last]])\n",
    "        xx2 = np.minimum(x2[i], x2[idxs[:last]])\n",
    "        yy2 = np.minimum(y2[i], y2[idxs[:last]])\n",
    "        # compute the width and height of the bounding box\n",
    "        w = np.maximum(0, xx2 - xx1 + 1)\n",
    "        h = np.maximum(0, yy2 - yy1 + 1)\n",
    "        # compute the ratio of overlap\n",
    "        overlap = (w * h) / area[idxs[:last]]\n",
    "        idxs = np.delete(idxs, np.concatenate(([last],\n",
    "                                               np.where(overlap > overlapThresh)[0])))\n",
    "    return boxes[pick].astype(\"int\")\n",
    "        # break\n",
    "\n",
    "\n",
    "# import the necessary packages\n",
    "import numpy as np\n",
    "import cv2\n",
    "\n",
    "boundingBoxes = np.array([\n",
    "\t(12, 84, 140, 212, 0.3),\n",
    "\t(24, 84, 152, 212, 0.4),\n",
    "\t(36, 84, 164, 212, 0.5),\n",
    "\t(12, 96, 140, 224, 0.6),\n",
    "\t(24, 96, 152, 224, 0.7),\n",
    "\t(24, 108, 152, 236, 0.8)])\n",
    "\n",
    "# load the image and clone it\n",
    "image = cv2.imread(\"cat_nms.png\")\n",
    "orig = image.copy()\n",
    "# loop over the bounding boxes for each image and draw them\n",
    "for (startX, startY, endX, endY, confidence) in boundingBoxes:\n",
    "\tcv2.rectangle(orig, (int(startX), int(startY)), (int(endX), int(endY)), (0, 0, 255), 2)\n",
    "# # perform non-maximum suppression on the bounding boxes\n",
    "pick = non_max_suppression(boundingBoxes, 0.3)\n",
    "# # loop over the picked bounding boxes and draw them\n",
    "for (startX, startY, endX, endY, confidence) in pick:\n",
    "   cv2.rectangle(image, (startX, startY), (endX, endY), (0, 255, 0), 2)\n",
    "cv2.imwrite('orig.png',orig)\n",
    "cv2.imwrite('image.png',image)\n",
    "\n",
    "\n"
   ]
  },
  {
   "cell_type": "code",
   "execution_count": 29,
   "metadata": {},
   "outputs": [
    {
     "name": "stdout",
     "output_type": "stream",
     "text": [
      "{'banana': 2, 'apple': 10}\n"
     ]
    }
   ],
   "source": [
    "fruits = {'banana' : 2}\n",
    "fruits.setdefault('apple',0)\n",
    "fruits['apple'] +=10\n",
    "print(fruits)"
   ]
  },
  {
   "cell_type": "code",
   "execution_count": null,
   "metadata": {},
   "outputs": [],
   "source": []
  }
 ],
 "metadata": {
  "kernelspec": {
   "display_name": "aivn",
   "language": "python",
   "name": "python3"
  },
  "language_info": {
   "codemirror_mode": {
    "name": "ipython",
    "version": 3
   },
   "file_extension": ".py",
   "mimetype": "text/x-python",
   "name": "python",
   "nbconvert_exporter": "python",
   "pygments_lexer": "ipython3",
   "version": "3.9.19"
  }
 },
 "nbformat": 4,
 "nbformat_minor": 2
}
