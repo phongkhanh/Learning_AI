{
 "cells": [
  {
   "cell_type": "code",
   "execution_count": 1,
   "metadata": {},
   "outputs": [
    {
     "name": "stdout",
     "output_type": "stream",
     "text": [
      "Hello AI VIETNAM. Have a nice day!\n",
      "Hello AI VIETNAM. Have a nice day!\n",
      "***Hi AI VIETNAM***\n"
     ]
    }
   ],
   "source": [
    "value1 = \"AI VIETNAM\"\n",
    "print(\"Hello %s. Have a nice day!\" % value1)\n",
    "print(\"Hello %s. Have a nice day!\" % (value1))\n",
    "\n",
    "value2 = \"Hi\"\n",
    "print(\"***%s %s***\" % (value2, value1))"
   ]
  },
  {
   "cell_type": "code",
   "execution_count": 3,
   "metadata": {},
   "outputs": [
    {
     "name": "stdout",
     "output_type": "stream",
     "text": [
      "Loss at the 5th iteration is 48.20000\n"
     ]
    }
   ],
   "source": [
    "iteration = 5\n",
    "loss = 48.2\n",
    "\n",
    "print(\"Loss at the %dth iteration is %.5f\" % (iteration, loss))"
   ]
  },
  {
   "cell_type": "code",
   "execution_count": 4,
   "metadata": {},
   "outputs": [
    {
     "name": "stdout",
     "output_type": "stream",
     "text": [
      "Hello, AIVIETNAM!\n",
      "Hello, AIVIETNAM!\n"
     ]
    }
   ],
   "source": [
    "value1 = \"Hello\"\n",
    "value2 = \"AIVIETNAM\"\n",
    "\n",
    "s1 = \"{n1}, {n2}!\".format(n1=value1, n2=value2)\n",
    "s2 = \"{n1}, {n2}!\".format(n2=value2, n1=value1)\n",
    "\n",
    "print(s1)\n",
    "print(s2)"
   ]
  },
  {
   "cell_type": "code",
   "execution_count": 5,
   "metadata": {},
   "outputs": [
    {
     "name": "stdout",
     "output_type": "stream",
     "text": [
      "Hello John. Are you 21 years old?\n"
     ]
    }
   ],
   "source": [
    "name = \"John\"\n",
    "age  = 21\n",
    "print(f'Hello {name}. Are you {age} years old?')"
   ]
  },
  {
   "cell_type": "code",
   "execution_count": 7,
   "metadata": {},
   "outputs": [
    {
     "name": "stdout",
     "output_type": "stream",
     "text": [
      "Value 1. Have a nice day!\n"
     ]
    },
    {
     "ename": "TypeError",
     "evalue": "%d format: a number is required, not str",
     "output_type": "error",
     "traceback": [
      "\u001b[0;31m---------------------------------------------------------------------------\u001b[0m",
      "\u001b[0;31mTypeError\u001b[0m                                 Traceback (most recent call last)",
      "Cell \u001b[0;32mIn[7], line 2\u001b[0m\n\u001b[1;32m      1\u001b[0m \u001b[38;5;28mprint\u001b[39m(\u001b[38;5;124m\"\u001b[39m\u001b[38;5;124mValue \u001b[39m\u001b[38;5;132;01m%s\u001b[39;00m\u001b[38;5;124m. Have a nice day!\u001b[39m\u001b[38;5;124m\"\u001b[39m \u001b[38;5;241m%\u001b[39m (\u001b[38;5;241m1\u001b[39m))\n\u001b[0;32m----> 2\u001b[0m \u001b[38;5;28mprint\u001b[39m(\u001b[38;5;124;43m\"\u001b[39;49m\u001b[38;5;124;43mHello \u001b[39;49m\u001b[38;5;132;43;01m%d\u001b[39;49;00m\u001b[38;5;124;43m. Have a nice day!\u001b[39;49m\u001b[38;5;124;43m\"\u001b[39;49m\u001b[43m \u001b[49m\u001b[38;5;241;43m%\u001b[39;49m\u001b[43m \u001b[49m\u001b[43m(\u001b[49m\u001b[38;5;124;43m\"\u001b[39;49m\u001b[38;5;124;43m1\u001b[39;49m\u001b[38;5;124;43m\"\u001b[39;49m\u001b[43m)\u001b[49m)\n",
      "\u001b[0;31mTypeError\u001b[0m: %d format: a number is required, not str"
     ]
    }
   ],
   "source": [
    "print(\"Value %s. Have a nice day!\" % (1))\n",
    "print(\"Hello %d. Have a nice day!\" % (\"1\"))"
   ]
  },
  {
   "cell_type": "code",
   "execution_count": 8,
   "metadata": {},
   "outputs": [
    {
     "name": "stdout",
     "output_type": "stream",
     "text": [
      "Tôi thích AI!\n",
      "Tôi thích AI!Tôi thích AI!\n"
     ]
    }
   ],
   "source": [
    "s1 = 'Tôi thích '\n",
    "s2 = 'AI!'\n",
    "\n",
    "s3 = s1 + s2\n",
    "s4 = s3*2\n",
    "\n",
    "print(s3)\n",
    "print(s4)"
   ]
  },
  {
   "cell_type": "code",
   "execution_count": 9,
   "metadata": {},
   "outputs": [
    {
     "name": "stdout",
     "output_type": "stream",
     "text": [
      "True\n",
      "False\n",
      "True\n",
      "True\n",
      "False\n"
     ]
    }
   ],
   "source": [
    "s1 = 'a'\n",
    "s2 = 'b'\n",
    "\n",
    "print(s1 == s1)\n",
    "print(s1 == s2)\n",
    "\n",
    "print(s1 != s2)\n",
    "print(s1 < s2)\n",
    "print(s1 > s2)"
   ]
  },
  {
   "cell_type": "markdown",
   "metadata": {},
   "source": [
    "Các toán tử >,>=,==,<=,< và != có thể sử dụng để so sánh chuỗi.\n",
    "\n",
    "Các phương thức chuỗi có rất nhiều, tuy nhiên một số phương thức của chúng tương tự nhau, bạn sẽ thấy một số ví dụ phía dưới.\n",
    "\n",
    "#### Phương thức truy vấn thông tin\n",
    "\n",
    "Một số phương pháp để kiểm tra loại kí tự số alpha có trong một chuỗi: isdigit (), isalpha (), islower (), isupper (), istitle (), isspace (), str.alunum ():"
   ]
  },
  {
   "cell_type": "code",
   "execution_count": 11,
   "metadata": {},
   "outputs": [
    {
     "name": "stdout",
     "output_type": "stream",
     "text": [
      "True\n",
      "False\n"
     ]
    }
   ],
   "source": [
    "# Kiểm tra xem string gồm các chữ số\n",
    "print(\"10\".isdigit())\n",
    "print('abc'.isdigit())"
   ]
  },
  {
   "cell_type": "code",
   "execution_count": 14,
   "metadata": {},
   "outputs": [
    {
     "name": "stdout",
     "output_type": "stream",
     "text": [
      "False\n",
      "True\n"
     ]
    }
   ],
   "source": [
    "#Kiem tra xem string chi tao duoc tu cac ki tu chu cai\n",
    "print(\"10\".isalpha())\n",
    "print('abc'.isalpha())"
   ]
  },
  {
   "cell_type": "code",
   "execution_count": 15,
   "metadata": {},
   "outputs": [
    {
     "name": "stdout",
     "output_type": "stream",
     "text": [
      "False\n",
      "True\n"
     ]
    }
   ],
   "source": [
    "# Kiểm tra xem string với tất cả các kí tự ở dạng chữ hoa\n",
    "print(\"Ab\".isupper())\n",
    "print(\"AB\".isupper())"
   ]
  },
  {
   "cell_type": "code",
   "execution_count": 16,
   "metadata": {},
   "outputs": [
    {
     "name": "stdout",
     "output_type": "stream",
     "text": [
      "True\n",
      "False\n"
     ]
    }
   ],
   "source": [
    "# Kiểm tra xem string với tất cả các kí tự ở dạng chữ thường\n",
    "print(\"ab\".islower()) \n",
    "print(\"Ab\".islower()) "
   ]
  },
  {
   "cell_type": "code",
   "execution_count": 17,
   "metadata": {},
   "outputs": [
    {
     "name": "stdout",
     "output_type": "stream",
     "text": [
      "True\n",
      "False\n",
      "False\n"
     ]
    }
   ],
   "source": [
    "# Kiểm tra xem string có bắt đầu bằng chữ in hoa\n",
    "print(\"Hello\".istitle()) \n",
    "print(\"HELLO\".istitle()) \n",
    "print(\"hello\".istitle()) "
   ]
  },
  {
   "cell_type": "code",
   "execution_count": null,
   "metadata": {},
   "outputs": [],
   "source": [
    "# Kiểm tra xem string chỉ là khoảng trắng\n",
    "print(\"\".isspace())\n",
    "print(\" \".isspace())\n",
    "print(\"   \".isspace())\n",
    "print(\"   abc  \".isspace())"
   ]
  },
  {
   "cell_type": "code",
   "execution_count": 18,
   "metadata": {},
   "outputs": [
    {
     "name": "stdout",
     "output_type": "stream",
     "text": [
      "2\n",
      "0\n",
      "11\n"
     ]
    }
   ],
   "source": [
    "s = \"AI VIET NAM\"\n",
    "\n",
    "print(s.count('A'))\n",
    "print(s.count('a'))\n",
    "print(len(s))"
   ]
  },
  {
   "cell_type": "code",
   "execution_count": 19,
   "metadata": {},
   "outputs": [
    {
     "data": {
      "text/plain": [
       "'Đây Là Bài Học Của Ai Viet Nam'"
      ]
     },
     "execution_count": 19,
     "metadata": {},
     "output_type": "execute_result"
    }
   ],
   "source": [
    "# Chuyển đổi kí tự đầu từng từ (word) trong một chuỗi thành kí tự hoa\n",
    "mystr = \"Đây là bài học của AI VIET NAM\"\n",
    "mystr.title()       "
   ]
  },
  {
   "cell_type": "code",
   "execution_count": 20,
   "metadata": {},
   "outputs": [
    {
     "data": {
      "text/plain": [
       "'Đây là bài học của ai viet nam'"
      ]
     },
     "execution_count": 20,
     "metadata": {},
     "output_type": "execute_result"
    }
   ],
   "source": [
    "# Chuyển đổi chữ cái đầu tiên của một chuỗi thành chữ hoa\n",
    "# và các kí tự sau thành chữ thường\n",
    "mystr = \"Đây là bài học của AI VIET NAM\"\n",
    "mystr.capitalize()  "
   ]
  },
  {
   "cell_type": "code",
   "execution_count": 21,
   "metadata": {},
   "outputs": [
    {
     "data": {
      "text/plain": [
       "'ĐÂY LÀ BÀI HỌC CỦA AI VIET NAM'"
      ]
     },
     "execution_count": 21,
     "metadata": {},
     "output_type": "execute_result"
    }
   ],
   "source": [
    "# Chuyển đổi tất cả các kí tự trong chuỗi thành chữ hoa\n",
    "mystr = \"Đây là bài học của AI VIET NAM\"\n",
    "mystr.upper()       "
   ]
  },
  {
   "cell_type": "code",
   "execution_count": 22,
   "metadata": {},
   "outputs": [
    {
     "data": {
      "text/plain": [
       "'đây là bài học của ai viet nam'"
      ]
     },
     "execution_count": 22,
     "metadata": {},
     "output_type": "execute_result"
    }
   ],
   "source": [
    "# Chuyển đổi các kí tự sang chữ thường\n",
    "mystr = \"Đây là bài học của AI VIET NAM\"\n",
    "mystr.lower()      "
   ]
  },
  {
   "cell_type": "code",
   "execution_count": 23,
   "metadata": {},
   "outputs": [
    {
     "data": {
      "text/plain": [
       "'đÂY LÀ BÀI HỌC CỦA ai viet nam'"
      ]
     },
     "execution_count": 23,
     "metadata": {},
     "output_type": "execute_result"
    }
   ],
   "source": [
    "# Chuyển đổi các kí tự từ chữ thường sang chữ hoa và ngược lại\n",
    "mystr = \"Đây là bài học của AI VIET NAM\"\n",
    "mystr.swapcase()  "
   ]
  },
  {
   "cell_type": "code",
   "execution_count": 24,
   "metadata": {},
   "outputs": [
    {
     "data": {
      "text/plain": [
       "'-----Đây là bài học của AI VIET NAM-----'"
      ]
     },
     "execution_count": 24,
     "metadata": {},
     "output_type": "execute_result"
    }
   ],
   "source": [
    "# Chỉnh chuỗi ở trung tâm, và chiều dài của chuỗi là 40\n",
    "mystr = \"Đây là bài học của AI VIET NAM\"\n",
    "mystr.center(40, '-')  "
   ]
  },
  {
   "cell_type": "code",
   "execution_count": 25,
   "metadata": {},
   "outputs": [
    {
     "data": {
      "text/plain": [
       "'Đây là bài học của AI VIET NAM          '"
      ]
     },
     "execution_count": 25,
     "metadata": {},
     "output_type": "execute_result"
    }
   ],
   "source": [
    "# Chỉnh chuỗi sang trái, và chiều dài của chuỗi là 40\n",
    "mystr = \"Đây là bài học của AI VIET NAM\"\n",
    "mystr.ljust(40) "
   ]
  },
  {
   "cell_type": "code",
   "execution_count": 26,
   "metadata": {},
   "outputs": [
    {
     "data": {
      "text/plain": [
       "'----------Đây là bài học của AI VIET NAM'"
      ]
     },
     "execution_count": 26,
     "metadata": {},
     "output_type": "execute_result"
    }
   ],
   "source": [
    "# Chỉnh chuỗi sang phải, và chiều dài chuỗi là 40\n",
    "mystr = \"Đây là bài học của AI VIET NAM\"\n",
    "mystr.rjust(40, '-') "
   ]
  },
  {
   "cell_type": "code",
   "execution_count": 27,
   "metadata": {},
   "outputs": [
    {
     "data": {
      "text/plain": [
       "'0000000000Đây là bài học của AI VIET NAM'"
      ]
     },
     "execution_count": 27,
     "metadata": {},
     "output_type": "execute_result"
    }
   ],
   "source": [
    "# Thêm số 0 vào bên trái để chuỗi có chiều dài là 40\n",
    "mystr = \"Đây là bài học của AI VIET NAM\"\n",
    "mystr.zfill(40) "
   ]
  },
  {
   "cell_type": "code",
   "execution_count": 28,
   "metadata": {},
   "outputs": [
    {
     "data": {
      "text/plain": [
       "'Đây là bài học của AI VIET NAM'"
      ]
     },
     "execution_count": 28,
     "metadata": {},
     "output_type": "execute_result"
    }
   ],
   "source": [
    "# Loại bỏ khoảng trắng ở cả hai đầu của chuỗi\n",
    "mystr = \"  Đây là bài học của AI VIET NAM  \"\n",
    "mystr.strip()\n"
   ]
  },
  {
   "cell_type": "code",
   "execution_count": 29,
   "metadata": {},
   "outputs": [
    {
     "data": {
      "text/plain": [
       "'  Đây là bài học của AI VIET NAM'"
      ]
     },
     "execution_count": 29,
     "metadata": {},
     "output_type": "execute_result"
    }
   ],
   "source": [
    "# Loại bỏ khoảng trắng ở đầu bên phải của chuỗi\n",
    "mystr = \"  Đây là bài học của AI VIET NAM  \"\n",
    "mystr.rstrip()"
   ]
  },
  {
   "cell_type": "code",
   "execution_count": 30,
   "metadata": {},
   "outputs": [
    {
     "data": {
      "text/plain": [
       "'Đây là bài học của AI VIET NAM  '"
      ]
     },
     "execution_count": 30,
     "metadata": {},
     "output_type": "execute_result"
    }
   ],
   "source": [
    "# Loại bỏ khoảng trắng ở đầu bên trái của chuỗi\n",
    "mystr = \"  Đây là bài học của AI VIET NAM  \"\n",
    "mystr.lstrip()"
   ]
  },
  {
   "cell_type": "code",
   "execution_count": 31,
   "metadata": {},
   "outputs": [
    {
     "data": {
      "text/plain": [
       "'Đây là bài học của AIVIETNAM'"
      ]
     },
     "execution_count": 31,
     "metadata": {},
     "output_type": "execute_result"
    }
   ],
   "source": [
    "# Thay thế chuỗi\n",
    "mystr = \"Đây là bài học của AI VIET NAM\"\n",
    "mystr.replace('AI VIET NAM', 'AIVIETNAM')"
   ]
  },
  {
   "cell_type": "code",
   "execution_count": 32,
   "metadata": {},
   "outputs": [
    {
     "data": {
      "text/plain": [
       "('Đây là bài học ', 'của', ' AI VIET NAM')"
      ]
     },
     "execution_count": 32,
     "metadata": {},
     "output_type": "execute_result"
    }
   ],
   "source": [
    "# Tách chuỗi\n",
    "mystr = \"Đây là bài học của AI VIET NAM\"\n",
    "mystr.partition('của')"
   ]
  },
  {
   "cell_type": "code",
   "execution_count": 33,
   "metadata": {},
   "outputs": [
    {
     "name": "stdout",
     "output_type": "stream",
     "text": [
      "True\n",
      "False\n"
     ]
    }
   ],
   "source": [
    "# Kiểm tra phần kết thúc của một string\n",
    "mystr = \"Đây là bài học của AI VIET NAM\"\n",
    "print(mystr.endswith('VIET NAM'))\n",
    "print(mystr.endswith('bài học'))"
   ]
  },
  {
   "cell_type": "code",
   "execution_count": 34,
   "metadata": {},
   "outputs": [
    {
     "name": "stdout",
     "output_type": "stream",
     "text": [
      "True\n",
      "False\n"
     ]
    }
   ],
   "source": [
    "# Kiểm tra phần đầu của một string\n",
    "mystr = \"Đây là bài học của AI VIET NAM\"\n",
    "print(mystr.startswith('Đây'))\n",
    "print(mystr.startswith('AI'))"
   ]
  },
  {
   "cell_type": "code",
   "execution_count": 35,
   "metadata": {},
   "outputs": [
    {
     "name": "stdout",
     "output_type": "stream",
     "text": [
      "11\n",
      "-1\n"
     ]
    }
   ],
   "source": [
    "# Tìm vị trí của một string trong một string khác\n",
    "# trả về -1 nếu không tìm thấy\n",
    "mystr = \"Đây là bài học của AI VIET NAM\"\n",
    "print(mystr.find('học'))\n",
    "print(mystr.find('hello'))"
   ]
  },
  {
   "cell_type": "code",
   "execution_count": 36,
   "metadata": {},
   "outputs": [
    {
     "name": "stdout",
     "output_type": "stream",
     "text": [
      "11\n"
     ]
    },
    {
     "ename": "ValueError",
     "evalue": "substring not found",
     "output_type": "error",
     "traceback": [
      "\u001b[0;31m---------------------------------------------------------------------------\u001b[0m",
      "\u001b[0;31mValueError\u001b[0m                                Traceback (most recent call last)",
      "Cell \u001b[0;32mIn[36], line 5\u001b[0m\n\u001b[1;32m      3\u001b[0m mystr \u001b[38;5;241m=\u001b[39m \u001b[38;5;124m\"\u001b[39m\u001b[38;5;124mĐây là bài học của AI VIET NAM\u001b[39m\u001b[38;5;124m\"\u001b[39m\n\u001b[1;32m      4\u001b[0m \u001b[38;5;28mprint\u001b[39m(mystr\u001b[38;5;241m.\u001b[39mindex(\u001b[38;5;124m'\u001b[39m\u001b[38;5;124mhọc\u001b[39m\u001b[38;5;124m'\u001b[39m))\n\u001b[0;32m----> 5\u001b[0m \u001b[38;5;28mprint\u001b[39m(\u001b[43mmystr\u001b[49m\u001b[38;5;241;43m.\u001b[39;49m\u001b[43mindex\u001b[49m\u001b[43m(\u001b[49m\u001b[38;5;124;43m'\u001b[39;49m\u001b[38;5;124;43mhello\u001b[39;49m\u001b[38;5;124;43m'\u001b[39;49m\u001b[43m)\u001b[49m)\n",
      "\u001b[0;31mValueError\u001b[0m: substring not found"
     ]
    }
   ],
   "source": [
    "# Tìm vị trí của một string trong một string khác\n",
    "# trả về ValueError nếu không tìm thấy\n",
    "mystr = \"Đây là bài học của AI VIET NAM\"\n",
    "print(mystr.index('học'))\n",
    "print(mystr.index('hello'))"
   ]
  },
  {
   "cell_type": "code",
   "execution_count": 37,
   "metadata": {},
   "outputs": [
    {
     "name": "stdout",
     "output_type": "stream",
     "text": [
      "\n",
      " Starbucks has the best coffee \n",
      "\n"
     ]
    }
   ],
   "source": [
    "str1 = \"\\n Starbucks has the best coffee \\n\"\n",
    "print(str1)"
   ]
  },
  {
   "cell_type": "code",
   "execution_count": 38,
   "metadata": {},
   "outputs": [
    {
     "name": "stdout",
     "output_type": "stream",
     "text": [
      "Starbucks has the best coffee\n"
     ]
    }
   ],
   "source": [
    "newstr = str1.strip()\n",
    "print(newstr)"
   ]
  },
  {
   "cell_type": "code",
   "execution_count": null,
   "metadata": {},
   "outputs": [],
   "source": []
  }
 ],
 "metadata": {
  "kernelspec": {
   "display_name": "aivn",
   "language": "python",
   "name": "python3"
  },
  "language_info": {
   "codemirror_mode": {
    "name": "ipython",
    "version": 3
   },
   "file_extension": ".py",
   "mimetype": "text/x-python",
   "name": "python",
   "nbconvert_exporter": "python",
   "pygments_lexer": "ipython3",
   "version": "3.9.19"
  }
 },
 "nbformat": 4,
 "nbformat_minor": 2
}
