{
 "cells": [
  {
   "cell_type": "code",
   "execution_count": 4,
   "metadata": {},
   "outputs": [
    {
     "name": "stdout",
     "output_type": "stream",
     "text": [
      "<class 'str'>\n",
      "Hello\n",
      "How are you today?\n"
     ]
    }
   ],
   "source": [
    "file = open(\"hello_world.txt\",'r')\n",
    "\n",
    "data = file.read()\n",
    "\n",
    "print(type(data))\n",
    "print(data)\n",
    "\n",
    "file.close()"
   ]
  },
  {
   "cell_type": "code",
   "execution_count": 7,
   "metadata": {},
   "outputs": [
    {
     "name": "stdout",
     "output_type": "stream",
     "text": [
      "Hello\n",
      "\n",
      "How are you today?\n"
     ]
    }
   ],
   "source": [
    "file = open(\"hello_world.txt\",'r')\n",
    "\n",
    "data_lines = file.readlines()\n",
    "for line in data_lines:\n",
    "    print(line)\n",
    "file.close()"
   ]
  },
  {
   "cell_type": "code",
   "execution_count": 10,
   "metadata": {},
   "outputs": [],
   "source": [
    "file = open(\"new_text.txt\",'w')\n",
    "\n",
    "content1 = \"line 1 \\n\"\n",
    "file.write(content1)\n",
    "content2 = \"line 2 \\n\"\n",
    "file.write(content2)\n",
    "\n",
    "file.close()"
   ]
  },
  {
   "cell_type": "code",
   "execution_count": 11,
   "metadata": {},
   "outputs": [],
   "source": [
    "file = open(\"new_text.txt\",'a')\n",
    "content3 = \"line 3\"\n",
    "file.write(content3)\n",
    "file.close()"
   ]
  },
  {
   "cell_type": "code",
   "execution_count": 14,
   "metadata": {},
   "outputs": [
    {
     "name": "stdout",
     "output_type": "stream",
     "text": [
      "True\n",
      "False\n"
     ]
    }
   ],
   "source": [
    "import os\n",
    "\n",
    "print(os.path.exists('new_text.txt'))\n",
    "print(os.path.exists('new_text_1.txt'))\n"
   ]
  },
  {
   "cell_type": "code",
   "execution_count": 16,
   "metadata": {},
   "outputs": [],
   "source": [
    "with open(\"new_text.txt\",\"a\") as file:\n",
    "    file.write('line 4 \\n')"
   ]
  },
  {
   "cell_type": "code",
   "execution_count": 17,
   "metadata": {},
   "outputs": [
    {
     "name": "stdout",
     "output_type": "stream",
     "text": [
      "['line 1 \\n', 'line 2 \\n', 'line 3\\n', 'line 4 \\n']\n"
     ]
    }
   ],
   "source": [
    "with open(\"new_text.txt\",\"r\") as file:\n",
    "    lines = file.readlines()\n",
    "    print(lines)\n",
    "    "
   ]
  },
  {
   "cell_type": "code",
   "execution_count": 18,
   "metadata": {},
   "outputs": [
    {
     "name": "stdout",
     "output_type": "stream",
     "text": [
      "area,price\n",
      "\n",
      "6.7,9.1\n",
      "\n",
      "4.6,5.9\n",
      "\n",
      "3.5,4.6\n",
      "\n",
      "5.5,6.7\n"
     ]
    }
   ],
   "source": [
    "with open('data.csv','r') as file:\n",
    "    data_lines  = file.readlines()\n",
    "    for line in data_lines:\n",
    "        print(line)"
   ]
  },
  {
   "cell_type": "code",
   "execution_count": null,
   "metadata": {},
   "outputs": [],
   "source": []
  }
 ],
 "metadata": {
  "kernelspec": {
   "display_name": "aivn",
   "language": "python",
   "name": "python3"
  },
  "language_info": {
   "codemirror_mode": {
    "name": "ipython",
    "version": 3
   },
   "file_extension": ".py",
   "mimetype": "text/x-python",
   "name": "python",
   "nbconvert_exporter": "python",
   "pygments_lexer": "ipython3",
   "version": "3.9.19"
  }
 },
 "nbformat": 4,
 "nbformat_minor": 2
}
