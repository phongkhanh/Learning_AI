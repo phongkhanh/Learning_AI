{
 "cells": [
  {
   "cell_type": "code",
   "execution_count": 1,
   "metadata": {},
   "outputs": [
    {
     "name": "stdout",
     "output_type": "stream",
     "text": [
      "0\n",
      "1\n",
      "2\n",
      "3\n",
      "4\n"
     ]
    }
   ],
   "source": [
    "for i in range(5):\n",
    "    print(i)"
   ]
  },
  {
   "cell_type": "code",
   "execution_count": 2,
   "metadata": {},
   "outputs": [
    {
     "name": "stdout",
     "output_type": "stream",
     "text": [
      "Giá trị i là 0\n",
      "Giá trị i là 1\n",
      "Giá trị i là 2\n",
      "Giá trị i là 3\n",
      "Giá trị i là 4\n"
     ]
    }
   ],
   "source": [
    "# duyệt phần tử trong range(10)\n",
    "for i in range(10):\n",
    "    # hỏi phần tử i có bằng 5 không?\n",
    "    if i == 5:\n",
    "        # nếu bằng thì thoát vòng lặp for này\n",
    "        break\n",
    "    \n",
    "    # làm gì đó với i    \n",
    "    print('Giá trị i là', i)"
   ]
  },
  {
   "cell_type": "code",
   "execution_count": 3,
   "metadata": {},
   "outputs": [
    {
     "name": "stdout",
     "output_type": "stream",
     "text": [
      "Giá trị i là 0\n",
      "Giá trị i là 1\n",
      "Giá trị i là 2\n",
      "Giá trị i là 3\n",
      "Giá trị i là 4\n",
      "Giá trị i là 6\n",
      "Giá trị i là 7\n",
      "Giá trị i là 8\n",
      "Giá trị i là 9\n"
     ]
    }
   ],
   "source": [
    "# duyệt phần tử trong range(10)\n",
    "for i in range(10):\n",
    "    # hỏi phần tử i có bằng 5 không?\n",
    "    if i == 5:\n",
    "        # nếu bằng thì gọi continue\n",
    "        # phần code sau continue sẽ không  \n",
    "        # được thực thì trong lần lặp này\n",
    "        continue\n",
    "\n",
    "    # làm gì đó với i\n",
    "    print('Giá trị i là', i)"
   ]
  },
  {
   "cell_type": "code",
   "execution_count": 11,
   "metadata": {},
   "outputs": [
    {
     "name": "stdout",
     "output_type": "stream",
     "text": [
      "total_flips 1000\n",
      "num_tails 521\n",
      "num_heads 479\n"
     ]
    }
   ],
   "source": [
    "import random\n",
    "\n",
    "total_flips = 0\n",
    "num_tails=0\n",
    "num_heads=0\n",
    "\n",
    "for _ in range(1000):\n",
    "    n = random.random()\n",
    "    if n < 0.5:\n",
    "        num_tails = num_tails + 1\n",
    "    else:\n",
    "        num_heads = num_heads + 1\n",
    "    total_flips = total_flips +1\n",
    "print(f'total_flips {total_flips}')\n",
    "print(f'num_tails {num_tails}')\n",
    "print(f'num_heads {num_heads}')\n",
    "\n"
   ]
  },
  {
   "cell_type": "code",
   "execution_count": 19,
   "metadata": {},
   "outputs": [
    {
     "name": "stdout",
     "output_type": "stream",
     "text": [
      "24\n",
      "2.7182818284590455\n"
     ]
    }
   ],
   "source": [
    "#calculate e number\n",
    "def factorial(n):\n",
    "    output = 1 \n",
    "    for i in range(1,n+1):\n",
    "        output = output*i\n",
    "    return output\n",
    "def calculate_e(n):\n",
    "    result = 1 \n",
    "    for i in range(1,n+1):\n",
    "        result = result + 1/factorial(i)\n",
    "    return result\n",
    "print(factorial(4))\n",
    "print(calculate_e(100))"
   ]
  },
  {
   "cell_type": "code",
   "execution_count": 28,
   "metadata": {},
   "outputs": [
    {
     "data": {
      "text/plain": [
       "3.000015360039322"
      ]
     },
     "execution_count": 28,
     "metadata": {},
     "output_type": "execute_result"
    }
   ],
   "source": [
    "#quadratic root\n",
    "def calculate_quadratic_root(N,n):\n",
    "    result = N/2\n",
    "    for i in range(n+1):\n",
    "        result = (result+(N/result))/2\n",
    "    return result\n",
    "calculate_quadratic_root(N=9,n=2)"
   ]
  },
  {
   "cell_type": "code",
   "execution_count": null,
   "metadata": {},
   "outputs": [],
   "source": []
  }
 ],
 "metadata": {
  "kernelspec": {
   "display_name": "aivn",
   "language": "python",
   "name": "python3"
  },
  "language_info": {
   "codemirror_mode": {
    "name": "ipython",
    "version": 3
   },
   "file_extension": ".py",
   "mimetype": "text/x-python",
   "name": "python",
   "nbconvert_exporter": "python",
   "pygments_lexer": "ipython3",
   "version": "3.9.19"
  }
 },
 "nbformat": 4,
 "nbformat_minor": 2
}
