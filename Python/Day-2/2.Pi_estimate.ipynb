{
 "cells": [
  {
   "cell_type": "code",
   "execution_count": 9,
   "metadata": {},
   "outputs": [
    {
     "name": "stdout",
     "output_type": "stream",
     "text": [
      "3.140592653839794\n"
     ]
    }
   ],
   "source": [
    "#Gregory-Leibniz Series\n",
    "def cal_pi_1(n):\n",
    "    pi = 0\n",
    "    for i in range(1,n+1):\n",
    "        pi = pi + ((-1)**(i+1)/(2*i-1))\n",
    "    return pi*4\n",
    "print(cal_pi_1(1000))"
   ]
  },
  {
   "cell_type": "code",
   "execution_count": 13,
   "metadata": {},
   "outputs": [
    {
     "name": "stdout",
     "output_type": "stream",
     "text": [
      "3.1415926538382988\n"
     ]
    }
   ],
   "source": [
    "#Nilakantha Series\n",
    "def cal_pi_2(n):\n",
    "    pi = 0\n",
    "    for i in range(0,n+1):\n",
    "        pi = pi + ((-1)**i)/((2*i+2)*(2*i+3)*(2*i+4))\n",
    "    return 3+4*pi\n",
    "print(cal_pi_2(1000))"
   ]
  },
  {
   "cell_type": "code",
   "execution_count": null,
   "metadata": {},
   "outputs": [],
   "source": []
  }
 ],
 "metadata": {
  "kernelspec": {
   "display_name": "aivn",
   "language": "python",
   "name": "python3"
  },
  "language_info": {
   "codemirror_mode": {
    "name": "ipython",
    "version": 3
   },
   "file_extension": ".py",
   "mimetype": "text/x-python",
   "name": "python",
   "nbconvert_exporter": "python",
   "pygments_lexer": "ipython3",
   "version": "3.9.19"
  }
 },
 "nbformat": 4,
 "nbformat_minor": 2
}
