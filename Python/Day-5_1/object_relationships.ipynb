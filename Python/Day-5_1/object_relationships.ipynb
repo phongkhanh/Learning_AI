{
 "cells": [
  {
   "cell_type": "code",
   "execution_count": 1,
   "metadata": {},
   "outputs": [
    {
     "name": "stdout",
     "output_type": "stream",
     "text": [
      "121500\n"
     ]
    }
   ],
   "source": [
    "\n",
    "class Salary:\n",
    "\tdef __init__(self, pay, bonus):\n",
    "\t\tself.pay = pay\n",
    "\t\tself.bonus = bonus\n",
    "\n",
    "\tdef computeAnnualSalary(self):\n",
    "\t\treturn (self.pay*12)+self.bonus\n",
    "\n",
    "class Employee:\n",
    "\tdef __init__(self, name, age, salary):\n",
    "\t\tself.name = name\n",
    "\t\tself.age = age\n",
    "\t\tself.salary = salary # composition\n",
    "\t\t\n",
    "\tdef total_sal(self):\n",
    "\t\treturn self.salary.computeAnnualSalary()\n",
    "\n",
    "salary = Salary(10000, 1500)\n",
    "emp = Employee('AIVN', 25, salary)\n",
    "print(emp.total_sal())\n"
   ]
  },
  {
   "cell_type": "code",
   "execution_count": 2,
   "metadata": {},
   "outputs": [
    {
     "name": "stdout",
     "output_type": "stream",
     "text": [
      "121500\n"
     ]
    }
   ],
   "source": [
    "\n",
    "class Salary:\n",
    "\tdef __init__(self, pay, bonus):\n",
    "\t\tself.pay = pay\n",
    "\t\tself.bonus = bonus\n",
    "\n",
    "\tdef computeAnnualSalary(self):\n",
    "\t\treturn (self.pay*12)+self.bonus\n",
    "\n",
    "class Employee:\n",
    "\tdef __init__(self, name, age, pay, bonus):\n",
    "\t\tself.name = name\n",
    "\t\tself.age = age\n",
    "\t\tself.salary = Salary(pay, bonus) # composition\n",
    "\t\t\n",
    "\tdef total_sal(self):\n",
    "\t\treturn self.salary.computeAnnualSalary()\n",
    "\n",
    "emp = Employee('AIVN', 25 ,10000, 1500)\n",
    "print(emp.total_sal())\n"
   ]
  },
  {
   "cell_type": "code",
   "execution_count": 3,
   "metadata": {},
   "outputs": [
    {
     "name": "stdout",
     "output_type": "stream",
     "text": [
      "ID:  23032023\n",
      "Name:  Nguyen Dinh Vinh\n",
      "Research Field:  Computer Vision\n"
     ]
    }
   ],
   "source": [
    "\n",
    "# super class\n",
    "class Student:\n",
    "    # protected data members\n",
    "    _id = None\n",
    "    _name = None\n",
    "\n",
    "    # constructor\n",
    "    def __init__(self, id, name):\n",
    "        self._id = id\n",
    "        self._name = name\n",
    "\n",
    "    # protected member function\n",
    "    def _displayInformation(self):\n",
    "        # accessing protected data members\n",
    "        print(\"ID: \", self._id)\n",
    "        print(\"Name: \", self._name)\n",
    "\n",
    "\n",
    "# derived class\n",
    "class AIVNStudent(Student):\n",
    "    # constructor\n",
    "    def __init__(self, id, name, researchField):\n",
    "        self._researchField = researchField\n",
    "        Student.__init__(self, id, name)\n",
    "\n",
    "    # private member function\n",
    "    def _displayDetails(self):\n",
    "        # accessing protected member functions of super class\n",
    "        self._displayInformation()\n",
    "\n",
    "        # accessing private data members of child class\n",
    "        print(\"Research Field: \", self._researchField)\n",
    "\n",
    "# creating objects of the derived class\n",
    "obj = AIVNStudent(23032023, \"Nguyen Dinh Vinh\", \"Computer Vision\")\n",
    "\n",
    "# calling public member functions of the class\n",
    "obj._displayDetails()\n"
   ]
  },
  {
   "cell_type": "code",
   "execution_count": null,
   "metadata": {},
   "outputs": [],
   "source": []
  }
 ],
 "metadata": {
  "kernelspec": {
   "display_name": "aivn",
   "language": "python",
   "name": "python3"
  },
  "language_info": {
   "codemirror_mode": {
    "name": "ipython",
    "version": 3
   },
   "file_extension": ".py",
   "mimetype": "text/x-python",
   "name": "python",
   "nbconvert_exporter": "python",
   "pygments_lexer": "ipython3",
   "version": "3.9.19"
  }
 },
 "nbformat": 4,
 "nbformat_minor": 2
}
