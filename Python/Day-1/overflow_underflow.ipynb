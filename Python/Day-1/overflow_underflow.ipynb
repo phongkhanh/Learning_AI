{
 "cells": [
  {
   "cell_type": "code",
   "execution_count": 3,
   "metadata": {},
   "outputs": [
    {
     "name": "stdout",
     "output_type": "stream",
     "text": [
      "1e-100\n",
      "0.0\n"
     ]
    }
   ],
   "source": [
    "print(1e-100)\n",
    "print(1e-10000)"
   ]
  },
  {
   "cell_type": "code",
   "execution_count": 4,
   "metadata": {},
   "outputs": [
    {
     "name": "stdout",
     "output_type": "stream",
     "text": [
      "1e+100\n",
      "inf\n"
     ]
    }
   ],
   "source": [
    "print(1e100)\n",
    "print(1e1000)"
   ]
  },
  {
   "cell_type": "code",
   "execution_count": 6,
   "metadata": {},
   "outputs": [
    {
     "name": "stdout",
     "output_type": "stream",
     "text": [
      "0.09003 0.24473 0.66524\n"
     ]
    }
   ],
   "source": [
    "import math\n",
    "\n",
    "#given three values\n",
    "v1 = 1.0\n",
    "v2 = 2.0\n",
    "v3 = 3.0\n",
    "\n",
    "#compute softmax\n",
    "total = math.exp(v1)+math.exp(v2)+math.exp(v3)\n",
    "\n",
    "s1 = math.exp(v1)/total\n",
    "s2 = math.exp(v2)/total\n",
    "s3 = math.exp(v3)/total\n",
    "\n",
    "print(f\"{s1:.5f} {s2:.5f} {s3:.5f}\")\n"
   ]
  },
  {
   "cell_type": "code",
   "execution_count": 7,
   "metadata": {},
   "outputs": [
    {
     "ename": "OverflowError",
     "evalue": "math range error",
     "output_type": "error",
     "traceback": [
      "\u001b[0;31m---------------------------------------------------------------------------\u001b[0m",
      "\u001b[0;31mOverflowError\u001b[0m                             Traceback (most recent call last)",
      "Cell \u001b[0;32mIn[7], line 10\u001b[0m\n\u001b[1;32m      6\u001b[0m v3 \u001b[38;5;241m=\u001b[39m \u001b[38;5;241m1003.0\u001b[39m\n\u001b[1;32m      9\u001b[0m \u001b[38;5;66;03m#compute softmax\u001b[39;00m\n\u001b[0;32m---> 10\u001b[0m total \u001b[38;5;241m=\u001b[39m \u001b[43mmath\u001b[49m\u001b[38;5;241;43m.\u001b[39;49m\u001b[43mexp\u001b[49m\u001b[43m(\u001b[49m\u001b[43mv1\u001b[49m\u001b[43m)\u001b[49m\u001b[38;5;241m+\u001b[39mmath\u001b[38;5;241m.\u001b[39mexp(v2)\u001b[38;5;241m+\u001b[39mmath\u001b[38;5;241m.\u001b[39mexp(v3)\n\u001b[1;32m     12\u001b[0m s1 \u001b[38;5;241m=\u001b[39m math\u001b[38;5;241m.\u001b[39mexp(v1)\u001b[38;5;241m/\u001b[39mtotal\n\u001b[1;32m     13\u001b[0m s2 \u001b[38;5;241m=\u001b[39m math\u001b[38;5;241m.\u001b[39mexp(v2)\u001b[38;5;241m/\u001b[39mtotal\n",
      "\u001b[0;31mOverflowError\u001b[0m: math range error"
     ]
    }
   ],
   "source": [
    "import math\n",
    "\n",
    "#given three values\n",
    "v1 = 1001.0\n",
    "v2 = 1002.0\n",
    "v3 = 1003.0\n",
    "\n",
    "#compute softmax\n",
    "total = math.exp(v1)+math.exp(v2)+math.exp(v3)\n",
    "\n",
    "s1 = math.exp(v1)/total\n",
    "s2 = math.exp(v2)/total\n",
    "s3 = math.exp(v3)/total\n",
    "\n",
    "print(f\"{s1:.5f} {s2:.5f} {s3:.5f}\")\n"
   ]
  },
  {
   "cell_type": "markdown",
   "metadata": {},
   "source": [
    "How to resolve this case ????\n",
    "You will eleminate the lagest number by subtracting the lagest number from the others numbers"
   ]
  },
  {
   "cell_type": "code",
   "execution_count": 9,
   "metadata": {},
   "outputs": [
    {
     "name": "stdout",
     "output_type": "stream",
     "text": [
      "0.09003 0.24473 0.66524\n"
     ]
    }
   ],
   "source": [
    "import math\n",
    "\n",
    "#given three values\n",
    "v1 = 1.0\n",
    "v2 = 2.0\n",
    "v3 = 3.0\n",
    "\n",
    "max_value = v3\n",
    "#compute softmax\n",
    "total = math.exp(v1-max_value)+math.exp(v2-max_value)+math.exp(v3-max_value)\n",
    "\n",
    "s1 = math.exp(v1-max_value)/total\n",
    "s2 = math.exp(v2-max_value)/total\n",
    "s3 = math.exp(v3-max_value)/total\n",
    "\n",
    "print(f\"{s1:.5f} {s2:.5f} {s3:.5f}\")\n"
   ]
  },
  {
   "cell_type": "code",
   "execution_count": null,
   "metadata": {},
   "outputs": [],
   "source": []
  }
 ],
 "metadata": {
  "kernelspec": {
   "display_name": "aivn",
   "language": "python",
   "name": "python3"
  },
  "language_info": {
   "codemirror_mode": {
    "name": "ipython",
    "version": 3
   },
   "file_extension": ".py",
   "mimetype": "text/x-python",
   "name": "python",
   "nbconvert_exporter": "python",
   "pygments_lexer": "ipython3",
   "version": "3.9.19"
  }
 },
 "nbformat": 4,
 "nbformat_minor": 2
}
