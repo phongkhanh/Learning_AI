{
 "cells": [
  {
   "cell_type": "code",
   "execution_count": 1,
   "id": "438ce821",
   "metadata": {},
   "outputs": [
    {
     "name": "stdout",
     "output_type": "stream",
     "text": [
      "[230.1, 44.5, 17.2, 151.5, 180.8]\n",
      "[37.8, 39.3, 45.9, 41.3, 10.8]\n",
      "[69.2, 45.1, 69.3, 58.5, 58.4]\n",
      "[22.1, 10.4, 12.0, 16.5, 17.9]\n"
     ]
    }
   ],
   "source": [
    "# dataset\n",
    "import numpy as np\n",
    "import matplotlib.pyplot as plt\n",
    "import random\n",
    "\n",
    "def get_column(data, index):\n",
    "    result = [row[index] for row in data]\n",
    "    return result\n",
    "\n",
    "def scaling(data1, data2, data3):\n",
    "    data = data1 + data2 + data3\n",
    "    \n",
    "    max_value = max(data)\n",
    "    min_value = min(data)\n",
    "    mean_value = sum(data) / len(data)\n",
    "    \n",
    "    data1 = [(x - mean_value) / (max_value - min_value) for x in data1]\n",
    "    data2 = [(x - mean_value) / (max_value - min_value) for x in data2]\n",
    "    data3 = [(x - mean_value) / (max_value - min_value) for x in data3]\n",
    "    \n",
    "    return (data1, data2, data3), (mean_value, max_value, min_value)\n",
    "\n",
    "data = np.genfromtxt('advertising.csv', delimiter=',', skip_header=1).tolist()\n",
    "N = len(data)\n",
    "\n",
    "# get tv (index=0)\n",
    "tv_data = get_column(data, 0)\n",
    "print(tv_data[:5])\n",
    "\n",
    "# get radio (index=1)\n",
    "radio_data = get_column(data, 1)\n",
    "print(radio_data[:5])\n",
    "\n",
    "# get newspaper (index=2)\n",
    "newspaper_data = get_column(data, 2)\n",
    "print(newspaper_data[:5])\n",
    "\n",
    "# get sales (index=0)\n",
    "sales_data = get_column(data, 3)\n",
    "print(sales_data[:5])"
   ]
  },
  {
   "cell_type": "code",
   "execution_count": null,
   "id": "88d42196",
   "metadata": {},
   "outputs": [],
   "source": []
  },
  {
   "cell_type": "code",
   "execution_count": 2,
   "id": "59dc2bc2",
   "metadata": {},
   "outputs": [
    {
     "name": "stdout",
     "output_type": "stream",
     "text": [
      "[0.5504267881241568, -0.07575404858299574, -0.16785931174089047, 0.285244601889339, 0.3840975033738194]\n",
      "[-0.09835863697705782, -0.09329790823211856, -0.07103070175438575, -0.08655026990553286, -0.1894517543859647]\n",
      "[0.007579284750337614, -0.07372975708502003, 0.007916666666666879, -0.028520580296895866, -0.028857962213225157]\n",
      "66.95349999999993 296.4 0.0\n"
     ]
    }
   ],
   "source": [
    "# scale data (only for features)\n",
    "# remenber to scale input features in inference, therefore, we need to save max, min and mean values\n",
    "\n",
    "(tv_data, radio_data, newspaper_data), (mean_v, max_v, min_v) = scaling(tv_data, \n",
    "                                                                    radio_data, \n",
    "                                                                    newspaper_data)\n",
    "\n",
    "print(tv_data[:5])\n",
    "print(radio_data[:5])\n",
    "print(newspaper_data[:5])\n",
    "print(mean_v, max_v, min_v)"
   ]
  },
  {
   "cell_type": "code",
   "execution_count": null,
   "id": "3b213085",
   "metadata": {},
   "outputs": [],
   "source": []
  },
  {
   "cell_type": "code",
   "execution_count": 3,
   "id": "cc65ed05",
   "metadata": {},
   "outputs": [],
   "source": [
    "# compute output and loss\n",
    "def predict(x1, x2, x3, w1, w2, w3, b):\n",
    "    return w1*x1 + w2*x2 + w3*x3 + b\n",
    "\n",
    "def compute_loss(y_hat, y):\n",
    "    return (y_hat - y)**2\n",
    "\n",
    "# compute gradient\n",
    "def compute_gradient_wi(xi, y, y_hat):\n",
    "    dl_dwi = 2*xi*(y_hat-y)\n",
    "    return dl_dwi \n",
    "\n",
    "def compute_gradient_b(y, y_hat):\n",
    "    dl_db = 2*(y_hat-y)\n",
    "    return dl_db\n",
    "\n",
    "# update weights\n",
    "def update_weight_wi(wi, dl_dwi, lr):\n",
    "    wi = wi - lr*dl_dwi\n",
    "    return wi\n",
    "    \n",
    "def update_weight_b(b, dl_db, lr):    \n",
    "    b  = b - lr*dl_db    \n",
    "    return b"
   ]
  },
  {
   "cell_type": "code",
   "execution_count": null,
   "id": "28f3addc",
   "metadata": {},
   "outputs": [],
   "source": []
  },
  {
   "cell_type": "code",
   "execution_count": 21,
   "id": "918b429f",
   "metadata": {},
   "outputs": [
    {
     "name": "stdout",
     "output_type": "stream",
     "text": [
      "1.892021113799962 0.48472246344731046 0.20132436613810048 0\n"
     ]
    }
   ],
   "source": [
    "def initialize_params():\n",
    "    w1 = random.gauss(mu=0.0, sigma=1.0)\n",
    "    w2 = random.gauss(mu=0.0, sigma=1.0)\n",
    "    w3 = random.gauss(mu=0.0, sigma=1.0)\n",
    "    b  = 0\n",
    "    \n",
    "    return w1, w2, w3, b\n",
    "\n",
    "# initialize model's parameters\n",
    "w1, w2, w3, b = initialize_params()\n",
    "print(w1, w2, w3, b)"
   ]
  },
  {
   "cell_type": "code",
   "execution_count": null,
   "id": "8fc8f3b3",
   "metadata": {},
   "outputs": [],
   "source": []
  },
  {
   "cell_type": "code",
   "execution_count": 22,
   "id": "94ea37a5",
   "metadata": {},
   "outputs": [],
   "source": [
    "epoch_max = 25000\n",
    "lr = 0.01\n",
    "losses = []\n",
    "\n",
    "for epoch in range(epoch_max):    \n",
    "    # some variables\n",
    "    loss_total = 0.0\n",
    "    \n",
    "    dw1_total = 0.0\n",
    "    dw2_total = 0.0\n",
    "    dw3_total = 0.0\n",
    "    db_total  = 0.0\n",
    "    \n",
    "    for i in range(N):\n",
    "        # get a sample\n",
    "        x1 = tv_data[i]\n",
    "        x2 = radio_data[i]\n",
    "        x3 = newspaper_data[i]\n",
    "        y  = sales_data[i]\n",
    "        \n",
    "        # compute output \n",
    "        y_hat = predict(x1, x2, x3, w1, w2, w3, b)\n",
    "        \n",
    "        # compute loss\n",
    "        loss = compute_loss(y, y_hat)\n",
    "        loss_total = loss_total + loss\n",
    "\n",
    "        # compute gradient w1, w2, w3, b\n",
    "        dl_dw1 = compute_gradient_wi(x1, y, y_hat)\n",
    "        dl_dw2 = compute_gradient_wi(x2, y, y_hat)\n",
    "        dl_dw3 = compute_gradient_wi(x3, y, y_hat)\n",
    "        dl_db  = compute_gradient_b(y, y_hat)\n",
    "        \n",
    "        # accumulate\n",
    "        dw1_total = dw1_total + dl_dw1\n",
    "        dw2_total = dw2_total + dl_dw2\n",
    "        dw3_total = dw3_total + dl_dw3\n",
    "        db_total = db_total + dl_db\n",
    "\n",
    "\n",
    "    # (after processing N samples) - update parameters\n",
    "    w1 = update_weight_wi(w1, dl_dw1/N, lr)\n",
    "    w2 = update_weight_wi(w2, dl_dw2/N, lr)\n",
    "    w3 = update_weight_wi(w3, dl_dw3/N, lr)\n",
    "    b  = update_weight_b(b, dl_db/N, lr)\n",
    "\n",
    "    # logging\n",
    "    losses.append(loss_total/N) "
   ]
  },
  {
   "cell_type": "code",
   "execution_count": null,
   "id": "091d717c",
   "metadata": {},
   "outputs": [],
   "source": []
  },
  {
   "cell_type": "code",
   "execution_count": 23,
   "id": "e263c5d5",
   "metadata": {},
   "outputs": [
    {
     "data": {
      "image/png": "[encoded data removed]",
      "text/plain": [
       "<Figure size 640x480 with 1 Axes>"
      ]
     },
     "metadata": {},
     "output_type": "display_data"
    }
   ],
   "source": [
    "plt.plot(losses)\n",
    "plt.show()"
   ]
  },
  {
   "cell_type": "code",
   "execution_count": null,
   "id": "860ca793",
   "metadata": {},
   "outputs": [],
   "source": []
  },
  {
   "cell_type": "code",
   "execution_count": 24,
   "id": "044ece26",
   "metadata": {},
   "outputs": [
    {
     "data": {
      "image/png": "[encoded data removed]",
      "text/plain": [
       "<Figure size 640x480 with 1 Axes>"
      ]
     },
     "metadata": {},
     "output_type": "display_data"
    }
   ],
   "source": [
    "plt.plot(losses[-100:])\n",
    "plt.show()"
   ]
  },
  {
   "cell_type": "code",
   "execution_count": null,
   "id": "3e8548ab",
   "metadata": {},
   "outputs": [],
   "source": []
  },
  {
   "cell_type": "markdown",
   "id": "d35b77de",
   "metadata": {},
   "source": [
    "#### Inference"
   ]
  },
  {
   "cell_type": "code",
   "execution_count": 19,
   "id": "7bbae37e",
   "metadata": {},
   "outputs": [
    {
     "name": "stdout",
     "output_type": "stream",
     "text": [
      "7.45482563161063 -3.707053079760379 -2.282893312309362 11.964713251208208\n"
     ]
    }
   ],
   "source": [
    "# get model's parameters\n",
    "print(w1, w2, w3, b)"
   ]
  },
  {
   "cell_type": "code",
   "execution_count": null,
   "id": "41c0f24d",
   "metadata": {},
   "outputs": [],
   "source": []
  },
  {
   "cell_type": "code",
   "execution_count": 25,
   "id": "2408ea3c",
   "metadata": {},
   "outputs": [
    {
     "name": "stdout",
     "output_type": "stream",
     "text": [
      "predicted sales is 17.159881592247096\n"
     ]
    }
   ],
   "source": [
    "# [230.1, 37.8, 69.2, 22.1]\n",
    "\n",
    "tv = 230.1\n",
    "radio = 37.8 \n",
    "newspaper = 69.2\n",
    "\n",
    "x_test = [tv, radio, newspaper]\n",
    "x_test = [(x - mean_v) / (max_v - min_v) for x in x_test]\n",
    "tv, radio, newspaper = x_test\n",
    "\n",
    "sales = predict(tv, radio, newspaper, w1, w2, w3, b)\n",
    "print(f'predicted sales is {sales}')"
   ]
  },
  {
   "cell_type": "code",
   "execution_count": null,
   "id": "b3227ac9",
   "metadata": {},
   "outputs": [],
   "source": []
  },
  {
   "cell_type": "code",
   "execution_count": 27,
   "id": "aea1ab5b",
   "metadata": {},
   "outputs": [
    {
     "name": "stdout",
     "output_type": "stream",
     "text": [
      "predicted sales is 11.120420405663682\n"
     ]
    }
   ],
   "source": [
    "def predict(x1, x2, x3, w1, w2, w3, b):\n",
    "    return w1*x1 + w2*x2 + w3*x3 + b\n",
    "\n",
    "# given new data\n",
    "tv = 19.2\n",
    "radio = 35.9 \n",
    "newspaper = 51.3\n",
    "\n",
    "x_test = [tv, radio, newspaper]\n",
    "x_test = [(x - mean_v) / (max_v - min_v) for x in x_test]\n",
    "tv, radio, newspaper = x_test\n",
    "\n",
    "sales = predict(tv, radio, newspaper, w1, w2, w3, b)\n",
    "print(f'predicted sales is {sales}')"
   ]
  },
  {
   "cell_type": "code",
   "execution_count": null,
   "id": "81423c86",
   "metadata": {},
   "outputs": [],
   "source": []
  }
 ],
 "metadata": {
  "kernelspec": {
   "display_name": "Python 3 (ipykernel)",
   "language": "python",
   "name": "python3"
  },
  "language_info": {
   "codemirror_mode": {
    "name": "ipython",
    "version": 3
   },
   "file_extension": ".py",
   "mimetype": "text/x-python",
   "name": "python",
   "nbconvert_exporter": "python",
   "pygments_lexer": "ipython3",
   "version": "3.9.13"
  }
 },
 "nbformat": 4,
 "nbformat_minor": 5
}
